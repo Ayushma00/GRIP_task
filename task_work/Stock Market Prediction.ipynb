{
 "cells": [
  {
   "cell_type": "markdown",
   "metadata": {},
   "source": [
    "# Stock Market Prediction using hybrid Numerical and Textual Analysis\n",
    "## Task 7\n",
    "## Author: Aayushma Pant"
   ]
  },
  {
   "cell_type": "code",
   "execution_count": 118,
   "metadata": {},
   "outputs": [],
   "source": [
    "# For numerical data evaluation"
   ]
  },
  {
   "cell_type": "code",
   "execution_count": 1,
   "metadata": {},
   "outputs": [],
   "source": [
    "import pandas as pd\n",
    "import numpy as np\n",
    "import matplotlib.pyplot as plt\n",
    "%matplotlib inline\n",
    "import seaborn as sns\n",
    "from statsmodels.tsa.arima_model import ARIMA"
   ]
  },
  {
   "cell_type": "code",
   "execution_count": 119,
   "metadata": {},
   "outputs": [],
   "source": [
    "import datetime\n",
    "import pandas_datareader.data as web\n",
    "from pandas import Series, DataFrame"
   ]
  },
  {
   "cell_type": "markdown",
   "metadata": {},
   "source": [
    "## Importing the data"
   ]
  },
  {
   "cell_type": "code",
   "execution_count": 120,
   "metadata": {},
   "outputs": [],
   "source": [
    "start = datetime.datetime(2019, 6, 30)\n",
    "end = datetime.datetime(2020, 6, 30)"
   ]
  },
  {
   "cell_type": "code",
   "execution_count": 121,
   "metadata": {},
   "outputs": [],
   "source": [
    "\n",
    "df = web.DataReader(\"TSLA\",'yahoo', start, end)"
   ]
  },
  {
   "cell_type": "code",
   "execution_count": 122,
   "metadata": {},
   "outputs": [
    {
     "data": {
      "text/html": [
       "<div>\n",
       "<style scoped>\n",
       "    .dataframe tbody tr th:only-of-type {\n",
       "        vertical-align: middle;\n",
       "    }\n",
       "\n",
       "    .dataframe tbody tr th {\n",
       "        vertical-align: top;\n",
       "    }\n",
       "\n",
       "    .dataframe thead th {\n",
       "        text-align: right;\n",
       "    }\n",
       "</style>\n",
       "<table border=\"1\" class=\"dataframe\">\n",
       "  <thead>\n",
       "    <tr style=\"text-align: right;\">\n",
       "      <th></th>\n",
       "      <th>High</th>\n",
       "      <th>Low</th>\n",
       "      <th>Open</th>\n",
       "      <th>Close</th>\n",
       "      <th>Volume</th>\n",
       "      <th>Adj Close</th>\n",
       "    </tr>\n",
       "    <tr>\n",
       "      <th>Date</th>\n",
       "      <th></th>\n",
       "      <th></th>\n",
       "      <th></th>\n",
       "      <th></th>\n",
       "      <th></th>\n",
       "      <th></th>\n",
       "    </tr>\n",
       "  </thead>\n",
       "  <tbody>\n",
       "    <tr>\n",
       "      <th>2019-07-01</th>\n",
       "      <td>46.619999</td>\n",
       "      <td>45.256001</td>\n",
       "      <td>46.042000</td>\n",
       "      <td>45.433998</td>\n",
       "      <td>41067000</td>\n",
       "      <td>45.433998</td>\n",
       "    </tr>\n",
       "    <tr>\n",
       "      <th>2019-07-02</th>\n",
       "      <td>45.830002</td>\n",
       "      <td>44.444000</td>\n",
       "      <td>45.778000</td>\n",
       "      <td>44.910000</td>\n",
       "      <td>46295000</td>\n",
       "      <td>44.910000</td>\n",
       "    </tr>\n",
       "    <tr>\n",
       "      <th>2019-07-03</th>\n",
       "      <td>48.313999</td>\n",
       "      <td>46.902000</td>\n",
       "      <td>47.877998</td>\n",
       "      <td>46.980000</td>\n",
       "      <td>71005500</td>\n",
       "      <td>46.980000</td>\n",
       "    </tr>\n",
       "    <tr>\n",
       "      <th>2019-07-05</th>\n",
       "      <td>47.090000</td>\n",
       "      <td>46.160000</td>\n",
       "      <td>46.914001</td>\n",
       "      <td>46.619999</td>\n",
       "      <td>35328500</td>\n",
       "      <td>46.619999</td>\n",
       "    </tr>\n",
       "    <tr>\n",
       "      <th>2019-07-08</th>\n",
       "      <td>46.450001</td>\n",
       "      <td>45.731998</td>\n",
       "      <td>46.248001</td>\n",
       "      <td>46.068001</td>\n",
       "      <td>29402500</td>\n",
       "      <td>46.068001</td>\n",
       "    </tr>\n",
       "  </tbody>\n",
       "</table>\n",
       "</div>"
      ],
      "text/plain": [
       "                 High        Low       Open      Close    Volume  Adj Close\n",
       "Date                                                                       \n",
       "2019-07-01  46.619999  45.256001  46.042000  45.433998  41067000  45.433998\n",
       "2019-07-02  45.830002  44.444000  45.778000  44.910000  46295000  44.910000\n",
       "2019-07-03  48.313999  46.902000  47.877998  46.980000  71005500  46.980000\n",
       "2019-07-05  47.090000  46.160000  46.914001  46.619999  35328500  46.619999\n",
       "2019-07-08  46.450001  45.731998  46.248001  46.068001  29402500  46.068001"
      ]
     },
     "execution_count": 122,
     "metadata": {},
     "output_type": "execute_result"
    }
   ],
   "source": [
    "df.head()"
   ]
  },
  {
   "cell_type": "code",
   "execution_count": 123,
   "metadata": {},
   "outputs": [
    {
     "data": {
      "text/html": [
       "<div>\n",
       "<style scoped>\n",
       "    .dataframe tbody tr th:only-of-type {\n",
       "        vertical-align: middle;\n",
       "    }\n",
       "\n",
       "    .dataframe tbody tr th {\n",
       "        vertical-align: top;\n",
       "    }\n",
       "\n",
       "    .dataframe thead th {\n",
       "        text-align: right;\n",
       "    }\n",
       "</style>\n",
       "<table border=\"1\" class=\"dataframe\">\n",
       "  <thead>\n",
       "    <tr style=\"text-align: right;\">\n",
       "      <th></th>\n",
       "      <th>High</th>\n",
       "      <th>Low</th>\n",
       "      <th>Open</th>\n",
       "      <th>Close</th>\n",
       "      <th>Volume</th>\n",
       "      <th>Adj Close</th>\n",
       "    </tr>\n",
       "    <tr>\n",
       "      <th>Date</th>\n",
       "      <th></th>\n",
       "      <th></th>\n",
       "      <th></th>\n",
       "      <th></th>\n",
       "      <th></th>\n",
       "      <th></th>\n",
       "    </tr>\n",
       "  </thead>\n",
       "  <tbody>\n",
       "    <tr>\n",
       "      <th>2020-06-24</th>\n",
       "      <td>200.175995</td>\n",
       "      <td>190.628006</td>\n",
       "      <td>198.822006</td>\n",
       "      <td>192.169998</td>\n",
       "      <td>54798000</td>\n",
       "      <td>192.169998</td>\n",
       "    </tr>\n",
       "    <tr>\n",
       "      <th>2020-06-25</th>\n",
       "      <td>197.195999</td>\n",
       "      <td>187.429993</td>\n",
       "      <td>190.854004</td>\n",
       "      <td>197.195999</td>\n",
       "      <td>46272500</td>\n",
       "      <td>197.195999</td>\n",
       "    </tr>\n",
       "    <tr>\n",
       "      <th>2020-06-26</th>\n",
       "      <td>199.000000</td>\n",
       "      <td>190.973999</td>\n",
       "      <td>198.955994</td>\n",
       "      <td>191.947998</td>\n",
       "      <td>44274500</td>\n",
       "      <td>191.947998</td>\n",
       "    </tr>\n",
       "    <tr>\n",
       "      <th>2020-06-29</th>\n",
       "      <td>202.000000</td>\n",
       "      <td>189.703995</td>\n",
       "      <td>193.802002</td>\n",
       "      <td>201.869995</td>\n",
       "      <td>45132000</td>\n",
       "      <td>201.869995</td>\n",
       "    </tr>\n",
       "    <tr>\n",
       "      <th>2020-06-30</th>\n",
       "      <td>217.537994</td>\n",
       "      <td>200.746002</td>\n",
       "      <td>201.300003</td>\n",
       "      <td>215.962006</td>\n",
       "      <td>84592500</td>\n",
       "      <td>215.962006</td>\n",
       "    </tr>\n",
       "  </tbody>\n",
       "</table>\n",
       "</div>"
      ],
      "text/plain": [
       "                  High         Low        Open       Close    Volume  \\\n",
       "Date                                                                   \n",
       "2020-06-24  200.175995  190.628006  198.822006  192.169998  54798000   \n",
       "2020-06-25  197.195999  187.429993  190.854004  197.195999  46272500   \n",
       "2020-06-26  199.000000  190.973999  198.955994  191.947998  44274500   \n",
       "2020-06-29  202.000000  189.703995  193.802002  201.869995  45132000   \n",
       "2020-06-30  217.537994  200.746002  201.300003  215.962006  84592500   \n",
       "\n",
       "             Adj Close  \n",
       "Date                    \n",
       "2020-06-24  192.169998  \n",
       "2020-06-25  197.195999  \n",
       "2020-06-26  191.947998  \n",
       "2020-06-29  201.869995  \n",
       "2020-06-30  215.962006  "
      ]
     },
     "execution_count": 123,
     "metadata": {},
     "output_type": "execute_result"
    }
   ],
   "source": [
    "df.tail()"
   ]
  },
  {
   "cell_type": "markdown",
   "metadata": {},
   "source": [
    "## Analysing  Numerical Data and data cleaning"
   ]
  },
  {
   "cell_type": "code",
   "execution_count": 124,
   "metadata": {},
   "outputs": [
    {
     "data": {
      "text/plain": [
       "High         0\n",
       "Low          0\n",
       "Open         0\n",
       "Close        0\n",
       "Volume       0\n",
       "Adj Close    0\n",
       "dtype: int64"
      ]
     },
     "execution_count": 124,
     "metadata": {},
     "output_type": "execute_result"
    }
   ],
   "source": [
    "df.isna().sum()"
   ]
  },
  {
   "cell_type": "code",
   "execution_count": 125,
   "metadata": {},
   "outputs": [
    {
     "data": {
      "text/plain": [
       "<matplotlib.legend.Legend at 0x7feb95f25bd0>"
      ]
     },
     "execution_count": 125,
     "metadata": {},
     "output_type": "execute_result"
    },
    {
     "data": {
      "image/png": "[encoded data removed]",
      "text/plain": [
       "<Figure size 1080x1080 with 1 Axes>"
      ]
     },
     "metadata": {
      "needs_background": "light"
     },
     "output_type": "display_data"
    }
   ],
   "source": [
    "\n",
    "plt.figure(figsize=(15 , 15))\n",
    "plt.plot(df['Adj Close'], label='Tesla Clousure Price')\n",
    "plt.plot(df[\"Adj Close\"].rolling(window = 20).mean(), label='average')\n",
    "plt.legend()\n"
   ]
  },
  {
   "cell_type": "markdown",
   "metadata": {},
   "source": [
    "## Daily return of the stock on average\n",
    "## To analyse the risk of the stock daily changes of the stock must be calculated."
   ]
  },
  {
   "cell_type": "code",
   "execution_count": 126,
   "metadata": {},
   "outputs": [
    {
     "data": {
      "text/plain": [
       "<matplotlib.axes._subplots.AxesSubplot at 0x7feb96097450>"
      ]
     },
     "execution_count": 126,
     "metadata": {},
     "output_type": "execute_result"
    },
    {
     "data": {
      "image/png": "[encoded data removed]",
      "text/plain": [
       "<Figure size 1080x1080 with 1 Axes>"
      ]
     },
     "metadata": {
      "needs_background": "light"
     },
     "output_type": "display_data"
    }
   ],
   "source": [
    "df['Daily Return'] = df['Adj Close'].pct_change()\n",
    "\n",
    "df['Daily Return'].plot(figsize = (15 , 15),legend=True, linestyle='--', marker='o')"
   ]
  },
  {
   "cell_type": "markdown",
   "metadata": {},
   "source": [
    "## Here during 2020-4 the point fall below -15% so it is the risky stock and at such time buying of stock can cause loss"
   ]
  },
  {
   "cell_type": "code",
   "execution_count": 151,
   "metadata": {},
   "outputs": [
    {
     "data": {
      "text/plain": [
       "Text(0.5, 1.0, 'Tesla Risk Analysis')"
      ]
     },
     "execution_count": 151,
     "metadata": {},
     "output_type": "execute_result"
    },
    {
     "data": {
      "image/png": "[encoded data removed]",
      "text/plain": [
       "<Figure size 432x288 with 1 Axes>"
      ]
     },
     "metadata": {
      "needs_background": "light"
     },
     "output_type": "display_data"
    }
   ],
   "source": [
    "sns.distplot(df['Daily Return'].dropna(), bins=100, color='purple')\n",
    "plt.ylabel('Daily Return')\n",
    "plt.title(\"Tesla Risk Analysis\")"
   ]
  },
  {
   "cell_type": "code",
   "execution_count": 131,
   "metadata": {},
   "outputs": [
    {
     "data": {
      "text/plain": [
       "215"
      ]
     },
     "execution_count": 131,
     "metadata": {},
     "output_type": "execute_result"
    }
   ],
   "source": [
    "data = df.filter(['Close']).values\n",
    "\n",
    "#Get the number of rows to train the model on\n",
    "training_data_len = int(np.ceil( len(data))*0.85)\n",
    "\n",
    "training_data_len"
   ]
  },
  {
   "cell_type": "code",
   "execution_count": 132,
   "metadata": {},
   "outputs": [],
   "source": [
    "# total data in training will be 215 datas and remaining will be our test data"
   ]
  },
  {
   "cell_type": "markdown",
   "metadata": {},
   "source": [
    "## Model Training using ARIMA (Auto Regressive Integrated Moving Average)"
   ]
  },
  {
   "cell_type": "code",
   "execution_count": 133,
   "metadata": {},
   "outputs": [],
   "source": [
    "from sklearn.preprocessing import MinMaxScaler\n",
    "from sklearn.metrics import mean_squared_error\n",
    "\n",
    "mn = MinMaxScaler(feature_range=(0,1))\n",
    "scaled_data = mn.fit_transform(data)"
   ]
  },
  {
   "cell_type": "code",
   "execution_count": 134,
   "metadata": {},
   "outputs": [],
   "source": [
    "#Create the scaled training data set\n",
    "train_data = scaled_data[0:int(training_data_len), :]\n",
    "test_data=scaled_data[int(training_data_len):, :]\n"
   ]
  },
  {
   "cell_type": "code",
   "execution_count": 143,
   "metadata": {},
   "outputs": [
    {
     "name": "stdout",
     "output_type": "stream",
     "text": [
      "predicted=0.692257, expected=0.654806\n",
      "predicted=0.661667, expected=0.700153\n",
      "predicted=0.720886, expected=0.690791\n",
      "predicted=0.699869, expected=0.688626\n",
      "predicted=0.702458, expected=0.667381\n",
      "predicted=0.656034, expected=0.681625\n",
      "predicted=0.679274, expected=0.676835\n",
      "predicted=0.671423, expected=0.693486\n",
      "predicted=0.702972, expected=0.687014\n",
      "predicted=0.688014, expected=0.695708\n",
      "predicted=0.702901, expected=0.709573\n",
      "predicted=0.714368, expected=0.697228\n",
      "predicted=0.700502, expected=0.699520\n",
      "predicted=0.701788, expected=0.701086\n",
      "predicted=0.697635, expected=0.684481\n",
      "predicted=0.680250, expected=0.718094\n",
      "predicted=0.724845, expected=0.790755\n",
      "predicted=0.819003, expected=0.771709\n",
      "predicted=0.799590, expected=0.773321\n",
      "predicted=0.796312, expected=0.751926\n",
      "predicted=0.737986, expected=0.776430\n",
      "predicted=0.778938, expected=0.850428\n",
      "predicted=0.874996, expected=0.839776\n",
      "predicted=0.866977, expected=0.936942\n",
      "predicted=0.993487, expected=0.876821\n",
      "predicted=0.886699, expected=0.833569\n",
      "predicted=0.836996, expected=0.897617\n",
      "predicted=0.880735, expected=0.887519\n",
      "predicted=0.886586, expected=0.898642\n",
      "predicted=0.924142, expected=0.912656\n",
      "predicted=0.916480, expected=0.909133\n",
      "predicted=0.916632, expected=0.901556\n",
      "predicted=0.903561, expected=0.910146\n",
      "predicted=0.909135, expected=0.863014\n",
      "predicted=0.847966, expected=0.891952\n",
      "predicted=0.889601, expected=0.861736\n",
      "predicted=0.843181, expected=0.918863\n",
      "predicted=0.937222, expected=1.000000\n",
      "                             ARIMA Model Results                              \n",
      "==============================================================================\n",
      "Dep. Variable:                   D2.y   No. Observations:                  250\n",
      "Model:                 ARIMA(2, 2, 0)   Log Likelihood                 461.183\n",
      "Method:                       css-mle   S.D. of innovations              0.038\n",
      "Date:                Thu, 12 Nov 2020   AIC                           -914.366\n",
      "Time:                        12:49:26   BIC                           -900.280\n",
      "Sample:                             2   HQIC                          -908.696\n",
      "                                                                              \n",
      "==============================================================================\n",
      "                 coef    std err          z      P>|z|      [0.025      0.975]\n",
      "------------------------------------------------------------------------------\n",
      "const       8.159e-05      0.001      0.070      0.944      -0.002       0.002\n",
      "ar.L1.D2.y    -0.7041      0.059    -12.023      0.000      -0.819      -0.589\n",
      "ar.L2.D2.y    -0.3814      0.059     -6.513      0.000      -0.496      -0.267\n",
      "                                    Roots                                    \n",
      "=============================================================================\n",
      "                  Real          Imaginary           Modulus         Frequency\n",
      "-----------------------------------------------------------------------------\n",
      "AR.1           -0.9230           -1.3303j            1.6192           -0.3465\n",
      "AR.2           -0.9230           +1.3303j            1.6192            0.3465\n",
      "-----------------------------------------------------------------------------\n",
      "Testing Mean Squared Error is 0.001731102357086472\n"
     ]
    }
   ],
   "source": [
    "history = [i for i in train_data]\n",
    "model_predictions = []\n",
    "N_test_observations = len(test_data)\n",
    "for time_point in range(N_test_observations):\n",
    "    model = ARIMA(history, order=(2,2,0)) #p,q,moving average\n",
    "    model_fit = model.fit(disp=0)\n",
    "    output = model_fit.forecast()\n",
    "    yhat = output[0]\n",
    "    model_predictions.append(yhat)\n",
    "    true_observed = test_data[time_point]\n",
    "    print('predicted=%f, expected=%f' % (yhat, true_observed))\n",
    "    history.append(true_observed)\n",
    "print(model_fit.summary())    \n",
    "error = mean_squared_error(test_data, model_predictions)\n",
    "print('Testing Mean Squared Error is {}'.format(error))\n",
    "    "
   ]
  },
  {
   "cell_type": "markdown",
   "metadata": {},
   "source": [
    "## predicted Results"
   ]
  },
  {
   "cell_type": "code",
   "execution_count": 144,
   "metadata": {},
   "outputs": [
    {
     "data": {
      "image/png": "[encoded data removed]",
      "text/plain": [
       "<Figure size 432x288 with 1 Axes>"
      ]
     },
     "metadata": {
      "needs_background": "light"
     },
     "output_type": "display_data"
    }
   ],
   "source": [
    "test_set_range = df[int(training_data_len):].index\n",
    "plt.plot(test_set_range, model_predictions, color='blue', marker='o', linestyle='dashed',label='Predicted Price')\n",
    "plt.plot(test_set_range, test_data, color='red', label='Actual Price')\n",
    "plt.title('TESLA Prices Prediction')\n",
    "plt.xlabel('Date')\n",
    "plt.xticks(rotation=90)\n",
    "plt.ylabel('Prices')\n",
    "plt.legend()\n",
    "plt.show()"
   ]
  },
  {
   "cell_type": "markdown",
   "metadata": {},
   "source": [
    "## Now reading the textual datasets for creating hybrid model in Stock prediction"
   ]
  },
  {
   "cell_type": "code",
   "execution_count": 3,
   "metadata": {},
   "outputs": [],
   "source": [
    "df1=pd.read_csv(\"india-news-headlines.csv\")"
   ]
  },
  {
   "cell_type": "code",
   "execution_count": 4,
   "metadata": {},
   "outputs": [
    {
     "data": {
      "text/html": [
       "<div>\n",
       "<style scoped>\n",
       "    .dataframe tbody tr th:only-of-type {\n",
       "        vertical-align: middle;\n",
       "    }\n",
       "\n",
       "    .dataframe tbody tr th {\n",
       "        vertical-align: top;\n",
       "    }\n",
       "\n",
       "    .dataframe thead th {\n",
       "        text-align: right;\n",
       "    }\n",
       "</style>\n",
       "<table border=\"1\" class=\"dataframe\">\n",
       "  <thead>\n",
       "    <tr style=\"text-align: right;\">\n",
       "      <th></th>\n",
       "      <th>publish_date</th>\n",
       "      <th>headline_category</th>\n",
       "      <th>headline_text</th>\n",
       "    </tr>\n",
       "  </thead>\n",
       "  <tbody>\n",
       "    <tr>\n",
       "      <th>0</th>\n",
       "      <td>20010101</td>\n",
       "      <td>sports.wwe</td>\n",
       "      <td>win over cena satisfying but defeating underta...</td>\n",
       "    </tr>\n",
       "    <tr>\n",
       "      <th>1</th>\n",
       "      <td>20010102</td>\n",
       "      <td>unknown</td>\n",
       "      <td>Status quo will not be disturbed at Ayodhya; s...</td>\n",
       "    </tr>\n",
       "    <tr>\n",
       "      <th>2</th>\n",
       "      <td>20010102</td>\n",
       "      <td>unknown</td>\n",
       "      <td>Fissures in Hurriyat over Pak visit</td>\n",
       "    </tr>\n",
       "    <tr>\n",
       "      <th>3</th>\n",
       "      <td>20010102</td>\n",
       "      <td>unknown</td>\n",
       "      <td>America's unwanted heading for India?</td>\n",
       "    </tr>\n",
       "    <tr>\n",
       "      <th>4</th>\n",
       "      <td>20010102</td>\n",
       "      <td>unknown</td>\n",
       "      <td>For bigwigs; it is destination Goa</td>\n",
       "    </tr>\n",
       "  </tbody>\n",
       "</table>\n",
       "</div>"
      ],
      "text/plain": [
       "   publish_date headline_category  \\\n",
       "0      20010101        sports.wwe   \n",
       "1      20010102           unknown   \n",
       "2      20010102           unknown   \n",
       "3      20010102           unknown   \n",
       "4      20010102           unknown   \n",
       "\n",
       "                                       headline_text  \n",
       "0  win over cena satisfying but defeating underta...  \n",
       "1  Status quo will not be disturbed at Ayodhya; s...  \n",
       "2                Fissures in Hurriyat over Pak visit  \n",
       "3              America's unwanted heading for India?  \n",
       "4                 For bigwigs; it is destination Goa  "
      ]
     },
     "execution_count": 4,
     "metadata": {},
     "output_type": "execute_result"
    }
   ],
   "source": [
    "df1.head()"
   ]
  },
  {
   "cell_type": "markdown",
   "metadata": {},
   "source": [
    "## Cleaning the  textual data"
   ]
  },
  {
   "cell_type": "code",
   "execution_count": 5,
   "metadata": {},
   "outputs": [
    {
     "data": {
      "text/html": [
       "<div>\n",
       "<style scoped>\n",
       "    .dataframe tbody tr th:only-of-type {\n",
       "        vertical-align: middle;\n",
       "    }\n",
       "\n",
       "    .dataframe tbody tr th {\n",
       "        vertical-align: top;\n",
       "    }\n",
       "\n",
       "    .dataframe thead th {\n",
       "        text-align: right;\n",
       "    }\n",
       "</style>\n",
       "<table border=\"1\" class=\"dataframe\">\n",
       "  <thead>\n",
       "    <tr style=\"text-align: right;\">\n",
       "      <th></th>\n",
       "      <th>headline_text</th>\n",
       "      <th>Date</th>\n",
       "    </tr>\n",
       "  </thead>\n",
       "  <tbody>\n",
       "    <tr>\n",
       "      <th>0</th>\n",
       "      <td>win over cena satisfying but defeating underta...</td>\n",
       "      <td>2001-01-01</td>\n",
       "    </tr>\n",
       "    <tr>\n",
       "      <th>1</th>\n",
       "      <td>Status quo will not be disturbed at Ayodhya; s...</td>\n",
       "      <td>2001-01-02</td>\n",
       "    </tr>\n",
       "    <tr>\n",
       "      <th>2</th>\n",
       "      <td>Fissures in Hurriyat over Pak visit</td>\n",
       "      <td>2001-01-02</td>\n",
       "    </tr>\n",
       "    <tr>\n",
       "      <th>3</th>\n",
       "      <td>America's unwanted heading for India?</td>\n",
       "      <td>2001-01-02</td>\n",
       "    </tr>\n",
       "    <tr>\n",
       "      <th>4</th>\n",
       "      <td>For bigwigs; it is destination Goa</td>\n",
       "      <td>2001-01-02</td>\n",
       "    </tr>\n",
       "  </tbody>\n",
       "</table>\n",
       "</div>"
      ],
      "text/plain": [
       "                                       headline_text       Date\n",
       "0  win over cena satisfying but defeating underta... 2001-01-01\n",
       "1  Status quo will not be disturbed at Ayodhya; s... 2001-01-02\n",
       "2                Fissures in Hurriyat over Pak visit 2001-01-02\n",
       "3              America's unwanted heading for India? 2001-01-02\n",
       "4                 For bigwigs; it is destination Goa 2001-01-02"
      ]
     },
     "execution_count": 5,
     "metadata": {},
     "output_type": "execute_result"
    }
   ],
   "source": [
    "df1['Date'] = pd.to_datetime(df1['publish_date'],format= '%Y%m%d')\n",
    "df1=df1.drop([\"headline_category\",'publish_date'],axis=1)\n",
    "df1.head()"
   ]
  },
  {
   "cell_type": "code",
   "execution_count": 6,
   "metadata": {},
   "outputs": [],
   "source": [
    "df1['news'] = df1.groupby(['Date']).transform(lambda x : ' '.join(x))\n",
    "df1=df1.drop(\"headline_text\",axis=1)\n",
    "news=df1.drop_duplicates()"
   ]
  },
  {
   "cell_type": "code",
   "execution_count": 9,
   "metadata": {
    "scrolled": true
   },
   "outputs": [
    {
     "name": "stdout",
     "output_type": "stream",
     "text": [
      "<class 'pandas.core.frame.DataFrame'>\n",
      "RangeIndex: 7080 entries, 0 to 7079\n",
      "Data columns (total 2 columns):\n",
      " #   Column  Non-Null Count  Dtype         \n",
      "---  ------  --------------  -----         \n",
      " 0   Date    7080 non-null   datetime64[ns]\n",
      " 1   news    7080 non-null   object        \n",
      "dtypes: datetime64[ns](1), object(1)\n",
      "memory usage: 110.8+ KB\n"
     ]
    }
   ],
   "source": [
    "\n",
    "news.reset_index(inplace = True, drop = True)\n",
    "news.info()\n"
   ]
  },
  {
   "cell_type": "code",
   "execution_count": null,
   "metadata": {},
   "outputs": [],
   "source": [
    "## Importing necessary files"
   ]
  },
  {
   "cell_type": "code",
   "execution_count": 146,
   "metadata": {},
   "outputs": [],
   "source": [
    "import re\n",
    "from nltk.corpus import stopwords\n",
    "from nltk.stem import PorterStemmer \n",
    "from nltk.stem import WordNetLemmatizer \n",
    "from nltk.sentiment.vader import SentimentIntensityAnalyzer\n",
    "from textblob import TextBlob  \n",
    "lemmatizer = WordNetLemmatizer() \n",
    "ps = PorterStemmer()  \n"
   ]
  },
  {
   "cell_type": "code",
   "execution_count": 11,
   "metadata": {},
   "outputs": [],
   "source": [
    "start = datetime.date(2019, 6, 30)\n",
    "end = datetime.date(2020, 6, 30)\n",
    "start_date = pd.to_datetime('2019-06-30')\n",
    "end_date = pd.to_datetime('2020-06-30')\n",
    "news=news.loc[(news['Date'] > start_date) & (news['Date'] < end_date)]"
   ]
  },
  {
   "cell_type": "code",
   "execution_count": 25,
   "metadata": {},
   "outputs": [],
   "source": [
    "news=news.reset_index()"
   ]
  },
  {
   "cell_type": "code",
   "execution_count": 26,
   "metadata": {},
   "outputs": [],
   "source": [
    "news=news.drop(\"index\",axis=1)"
   ]
  },
  {
   "cell_type": "code",
   "execution_count": 27,
   "metadata": {},
   "outputs": [
    {
     "data": {
      "text/html": [
       "<div>\n",
       "<style scoped>\n",
       "    .dataframe tbody tr th:only-of-type {\n",
       "        vertical-align: middle;\n",
       "    }\n",
       "\n",
       "    .dataframe tbody tr th {\n",
       "        vertical-align: top;\n",
       "    }\n",
       "\n",
       "    .dataframe thead th {\n",
       "        text-align: right;\n",
       "    }\n",
       "</style>\n",
       "<table border=\"1\" class=\"dataframe\">\n",
       "  <thead>\n",
       "    <tr style=\"text-align: right;\">\n",
       "      <th></th>\n",
       "      <th>Date</th>\n",
       "      <th>news</th>\n",
       "    </tr>\n",
       "  </thead>\n",
       "  <tbody>\n",
       "    <tr>\n",
       "      <th>0</th>\n",
       "      <td>2019-07-01</td>\n",
       "      <td>Micro review: 'Tom Clancy: Enemy Contact' by M...</td>\n",
       "    </tr>\n",
       "    <tr>\n",
       "      <th>1</th>\n",
       "      <td>2019-07-02</td>\n",
       "      <td>Invest in a secure future for your parents Ban...</td>\n",
       "    </tr>\n",
       "    <tr>\n",
       "      <th>2</th>\n",
       "      <td>2019-07-03</td>\n",
       "      <td>One actor; six characters: A solo theatre act ...</td>\n",
       "    </tr>\n",
       "    <tr>\n",
       "      <th>3</th>\n",
       "      <td>2019-07-04</td>\n",
       "      <td>Party night in Candolim Party night in Candoli...</td>\n",
       "    </tr>\n",
       "    <tr>\n",
       "      <th>4</th>\n",
       "      <td>2019-07-05</td>\n",
       "      <td>Telangana CM's school gets swanky building; mo...</td>\n",
       "    </tr>\n",
       "    <tr>\n",
       "      <th>...</th>\n",
       "      <td>...</td>\n",
       "      <td>...</td>\n",
       "    </tr>\n",
       "    <tr>\n",
       "      <th>360</th>\n",
       "      <td>2020-06-25</td>\n",
       "      <td>Truck firms look for new export markets to sel...</td>\n",
       "    </tr>\n",
       "    <tr>\n",
       "      <th>361</th>\n",
       "      <td>2020-06-26</td>\n",
       "      <td>Containment zone residents slam high prices ch...</td>\n",
       "    </tr>\n",
       "    <tr>\n",
       "      <th>362</th>\n",
       "      <td>2020-06-27</td>\n",
       "      <td>like me i wont let you have a toxic relationsh...</td>\n",
       "    </tr>\n",
       "    <tr>\n",
       "      <th>363</th>\n",
       "      <td>2020-06-28</td>\n",
       "      <td>Atanu Ghosh plans to rewrite old scripts to ma...</td>\n",
       "    </tr>\n",
       "    <tr>\n",
       "      <th>364</th>\n",
       "      <td>2020-06-29</td>\n",
       "      <td>6 hot and stylish bikini looks of Katrina Kaif...</td>\n",
       "    </tr>\n",
       "  </tbody>\n",
       "</table>\n",
       "<p>365 rows × 2 columns</p>\n",
       "</div>"
      ],
      "text/plain": [
       "          Date                                               news\n",
       "0   2019-07-01  Micro review: 'Tom Clancy: Enemy Contact' by M...\n",
       "1   2019-07-02  Invest in a secure future for your parents Ban...\n",
       "2   2019-07-03  One actor; six characters: A solo theatre act ...\n",
       "3   2019-07-04  Party night in Candolim Party night in Candoli...\n",
       "4   2019-07-05  Telangana CM's school gets swanky building; mo...\n",
       "..         ...                                                ...\n",
       "360 2020-06-25  Truck firms look for new export markets to sel...\n",
       "361 2020-06-26  Containment zone residents slam high prices ch...\n",
       "362 2020-06-27  like me i wont let you have a toxic relationsh...\n",
       "363 2020-06-28  Atanu Ghosh plans to rewrite old scripts to ma...\n",
       "364 2020-06-29  6 hot and stylish bikini looks of Katrina Kaif...\n",
       "\n",
       "[365 rows x 2 columns]"
      ]
     },
     "execution_count": 27,
     "metadata": {},
     "output_type": "execute_result"
    }
   ],
   "source": [
    "news"
   ]
  },
  {
   "cell_type": "markdown",
   "metadata": {},
   "source": [
    "## Cleaning the data "
   ]
  },
  {
   "cell_type": "code",
   "execution_count": 28,
   "metadata": {},
   "outputs": [],
   "source": [
    "sent = []\n",
    "for i in range(0,len(news['news'])):\n",
    "    new = re.sub('[^a-zA-Z]',' ',news['news'][i])\n",
    "    new = new.lower()\n",
    "    new = new.split()\n",
    "    new = [lemmatizer.lemmatize(word) for word in new if not word in set(stopwords.words('english'))]\n",
    "    new=' '.join(new)\n",
    "    sent.append(new)"
   ]
  },
  {
   "cell_type": "code",
   "execution_count": 33,
   "metadata": {},
   "outputs": [
    {
     "data": {
      "text/plain": [
       "0      micro review tom clancy enemy contact mike mad...\n",
       "1      invest secure future parent bank fraud ed sear...\n",
       "2      one actor six character solo theatre act set s...\n",
       "3      party night candolim party night candolim raja...\n",
       "4      telangana cm school get swanky building modern...\n",
       "                             ...                        \n",
       "360    truck firm look new export market sell b range...\n",
       "361    containment zone resident slam high price char...\n",
       "362    like wont let toxic relationship food major ra...\n",
       "363    atanu ghosh plan rewrite old script make relev...\n",
       "364    hot stylish bikini look katrina kaif anna eden...\n",
       "Name: news, Length: 365, dtype: object"
      ]
     },
     "execution_count": 33,
     "metadata": {},
     "output_type": "execute_result"
    }
   ],
   "source": [
    "news[\"news\"]=pd.Series(sent)\n",
    "news[\"news\"]"
   ]
  },
  {
   "cell_type": "code",
   "execution_count": 39,
   "metadata": {},
   "outputs": [
    {
     "data": {
      "text/html": [
       "<div>\n",
       "<style scoped>\n",
       "    .dataframe tbody tr th:only-of-type {\n",
       "        vertical-align: middle;\n",
       "    }\n",
       "\n",
       "    .dataframe tbody tr th {\n",
       "        vertical-align: top;\n",
       "    }\n",
       "\n",
       "    .dataframe thead th {\n",
       "        text-align: right;\n",
       "    }\n",
       "</style>\n",
       "<table border=\"1\" class=\"dataframe\">\n",
       "  <thead>\n",
       "    <tr style=\"text-align: right;\">\n",
       "      <th></th>\n",
       "      <th>Date</th>\n",
       "      <th>news</th>\n",
       "      <th>Subjectivity</th>\n",
       "      <th>Polarity</th>\n",
       "    </tr>\n",
       "  </thead>\n",
       "  <tbody>\n",
       "    <tr>\n",
       "      <th>0</th>\n",
       "      <td>2019-07-01</td>\n",
       "      <td>micro review tom clancy enemy contact mike mad...</td>\n",
       "      <td>0.393000</td>\n",
       "      <td>0.022048</td>\n",
       "    </tr>\n",
       "    <tr>\n",
       "      <th>1</th>\n",
       "      <td>2019-07-02</td>\n",
       "      <td>invest secure future parent bank fraud ed sear...</td>\n",
       "      <td>0.380064</td>\n",
       "      <td>0.022599</td>\n",
       "    </tr>\n",
       "    <tr>\n",
       "      <th>2</th>\n",
       "      <td>2019-07-03</td>\n",
       "      <td>one actor six character solo theatre act set s...</td>\n",
       "      <td>0.359821</td>\n",
       "      <td>0.012605</td>\n",
       "    </tr>\n",
       "    <tr>\n",
       "      <th>3</th>\n",
       "      <td>2019-07-04</td>\n",
       "      <td>party night candolim party night candolim raja...</td>\n",
       "      <td>0.439894</td>\n",
       "      <td>0.067461</td>\n",
       "    </tr>\n",
       "    <tr>\n",
       "      <th>4</th>\n",
       "      <td>2019-07-05</td>\n",
       "      <td>telangana cm school get swanky building modern...</td>\n",
       "      <td>0.388086</td>\n",
       "      <td>0.020945</td>\n",
       "    </tr>\n",
       "    <tr>\n",
       "      <th>...</th>\n",
       "      <td>...</td>\n",
       "      <td>...</td>\n",
       "      <td>...</td>\n",
       "      <td>...</td>\n",
       "    </tr>\n",
       "    <tr>\n",
       "      <th>360</th>\n",
       "      <td>2020-06-25</td>\n",
       "      <td>truck firm look new export market sell b range...</td>\n",
       "      <td>0.377764</td>\n",
       "      <td>0.000578</td>\n",
       "    </tr>\n",
       "    <tr>\n",
       "      <th>361</th>\n",
       "      <td>2020-06-26</td>\n",
       "      <td>containment zone resident slam high price char...</td>\n",
       "      <td>0.365790</td>\n",
       "      <td>0.041056</td>\n",
       "    </tr>\n",
       "    <tr>\n",
       "      <th>362</th>\n",
       "      <td>2020-06-27</td>\n",
       "      <td>like wont let toxic relationship food major ra...</td>\n",
       "      <td>0.371535</td>\n",
       "      <td>0.061702</td>\n",
       "    </tr>\n",
       "    <tr>\n",
       "      <th>363</th>\n",
       "      <td>2020-06-28</td>\n",
       "      <td>atanu ghosh plan rewrite old script make relev...</td>\n",
       "      <td>0.392516</td>\n",
       "      <td>0.045515</td>\n",
       "    </tr>\n",
       "    <tr>\n",
       "      <th>364</th>\n",
       "      <td>2020-06-29</td>\n",
       "      <td>hot stylish bikini look katrina kaif anna eden...</td>\n",
       "      <td>0.376447</td>\n",
       "      <td>0.054661</td>\n",
       "    </tr>\n",
       "  </tbody>\n",
       "</table>\n",
       "<p>365 rows × 4 columns</p>\n",
       "</div>"
      ],
      "text/plain": [
       "          Date                                               news  \\\n",
       "0   2019-07-01  micro review tom clancy enemy contact mike mad...   \n",
       "1   2019-07-02  invest secure future parent bank fraud ed sear...   \n",
       "2   2019-07-03  one actor six character solo theatre act set s...   \n",
       "3   2019-07-04  party night candolim party night candolim raja...   \n",
       "4   2019-07-05  telangana cm school get swanky building modern...   \n",
       "..         ...                                                ...   \n",
       "360 2020-06-25  truck firm look new export market sell b range...   \n",
       "361 2020-06-26  containment zone resident slam high price char...   \n",
       "362 2020-06-27  like wont let toxic relationship food major ra...   \n",
       "363 2020-06-28  atanu ghosh plan rewrite old script make relev...   \n",
       "364 2020-06-29  hot stylish bikini look katrina kaif anna eden...   \n",
       "\n",
       "     Subjectivity  Polarity  \n",
       "0        0.393000  0.022048  \n",
       "1        0.380064  0.022599  \n",
       "2        0.359821  0.012605  \n",
       "3        0.439894  0.067461  \n",
       "4        0.388086  0.020945  \n",
       "..            ...       ...  \n",
       "360      0.377764  0.000578  \n",
       "361      0.365790  0.041056  \n",
       "362      0.371535  0.061702  \n",
       "363      0.392516  0.045515  \n",
       "364      0.376447  0.054661  \n",
       "\n",
       "[365 rows x 4 columns]"
      ]
     },
     "execution_count": 39,
     "metadata": {},
     "output_type": "execute_result"
    }
   ],
   "source": [
    "def getSubjectivity(text):\n",
    "     return TextBlob(text).sentiment.subjectivity\n",
    "\n",
    "def getPolarity(text):\n",
    "     return  TextBlob(text).sentiment.polarity\n",
    "\n",
    "#Adding subjectivity and polarity columns\n",
    "news['Subjectivity'] = news['news'].apply(getSubjectivity)\n",
    "news['Polarity'] =news['news'].apply(getPolarity)\n",
    "news"
   ]
  },
  {
   "cell_type": "code",
   "execution_count": 41,
   "metadata": {},
   "outputs": [
    {
     "data": {
      "text/html": [
       "<div>\n",
       "<style scoped>\n",
       "    .dataframe tbody tr th:only-of-type {\n",
       "        vertical-align: middle;\n",
       "    }\n",
       "\n",
       "    .dataframe tbody tr th {\n",
       "        vertical-align: top;\n",
       "    }\n",
       "\n",
       "    .dataframe thead th {\n",
       "        text-align: right;\n",
       "    }\n",
       "</style>\n",
       "<table border=\"1\" class=\"dataframe\">\n",
       "  <thead>\n",
       "    <tr style=\"text-align: right;\">\n",
       "      <th></th>\n",
       "      <th>Date</th>\n",
       "      <th>news</th>\n",
       "      <th>Subjectivity</th>\n",
       "      <th>Polarity</th>\n",
       "      <th>Compound</th>\n",
       "      <th>Negative</th>\n",
       "      <th>Neutral</th>\n",
       "      <th>Positive</th>\n",
       "    </tr>\n",
       "  </thead>\n",
       "  <tbody>\n",
       "    <tr>\n",
       "      <th>0</th>\n",
       "      <td>2019-07-01</td>\n",
       "      <td>micro review tom clancy enemy contact mike mad...</td>\n",
       "      <td>0.393000</td>\n",
       "      <td>0.022048</td>\n",
       "      <td>-0.9999</td>\n",
       "      <td>0.169</td>\n",
       "      <td>0.739</td>\n",
       "      <td>0.092</td>\n",
       "    </tr>\n",
       "    <tr>\n",
       "      <th>1</th>\n",
       "      <td>2019-07-02</td>\n",
       "      <td>invest secure future parent bank fraud ed sear...</td>\n",
       "      <td>0.380064</td>\n",
       "      <td>0.022599</td>\n",
       "      <td>-0.9998</td>\n",
       "      <td>0.162</td>\n",
       "      <td>0.736</td>\n",
       "      <td>0.102</td>\n",
       "    </tr>\n",
       "    <tr>\n",
       "      <th>2</th>\n",
       "      <td>2019-07-03</td>\n",
       "      <td>one actor six character solo theatre act set s...</td>\n",
       "      <td>0.359821</td>\n",
       "      <td>0.012605</td>\n",
       "      <td>-0.9999</td>\n",
       "      <td>0.189</td>\n",
       "      <td>0.706</td>\n",
       "      <td>0.106</td>\n",
       "    </tr>\n",
       "    <tr>\n",
       "      <th>3</th>\n",
       "      <td>2019-07-04</td>\n",
       "      <td>party night candolim party night candolim raja...</td>\n",
       "      <td>0.439894</td>\n",
       "      <td>0.067461</td>\n",
       "      <td>-0.9998</td>\n",
       "      <td>0.167</td>\n",
       "      <td>0.727</td>\n",
       "      <td>0.107</td>\n",
       "    </tr>\n",
       "    <tr>\n",
       "      <th>4</th>\n",
       "      <td>2019-07-05</td>\n",
       "      <td>telangana cm school get swanky building modern...</td>\n",
       "      <td>0.388086</td>\n",
       "      <td>0.020945</td>\n",
       "      <td>-0.9998</td>\n",
       "      <td>0.179</td>\n",
       "      <td>0.712</td>\n",
       "      <td>0.110</td>\n",
       "    </tr>\n",
       "    <tr>\n",
       "      <th>...</th>\n",
       "      <td>...</td>\n",
       "      <td>...</td>\n",
       "      <td>...</td>\n",
       "      <td>...</td>\n",
       "      <td>...</td>\n",
       "      <td>...</td>\n",
       "      <td>...</td>\n",
       "      <td>...</td>\n",
       "    </tr>\n",
       "    <tr>\n",
       "      <th>360</th>\n",
       "      <td>2020-06-25</td>\n",
       "      <td>truck firm look new export market sell b range...</td>\n",
       "      <td>0.377764</td>\n",
       "      <td>0.000578</td>\n",
       "      <td>-0.9999</td>\n",
       "      <td>0.184</td>\n",
       "      <td>0.740</td>\n",
       "      <td>0.076</td>\n",
       "    </tr>\n",
       "    <tr>\n",
       "      <th>361</th>\n",
       "      <td>2020-06-26</td>\n",
       "      <td>containment zone resident slam high price char...</td>\n",
       "      <td>0.365790</td>\n",
       "      <td>0.041056</td>\n",
       "      <td>-0.9998</td>\n",
       "      <td>0.172</td>\n",
       "      <td>0.726</td>\n",
       "      <td>0.103</td>\n",
       "    </tr>\n",
       "    <tr>\n",
       "      <th>362</th>\n",
       "      <td>2020-06-27</td>\n",
       "      <td>like wont let toxic relationship food major ra...</td>\n",
       "      <td>0.371535</td>\n",
       "      <td>0.061702</td>\n",
       "      <td>-0.9998</td>\n",
       "      <td>0.165</td>\n",
       "      <td>0.736</td>\n",
       "      <td>0.099</td>\n",
       "    </tr>\n",
       "    <tr>\n",
       "      <th>363</th>\n",
       "      <td>2020-06-28</td>\n",
       "      <td>atanu ghosh plan rewrite old script make relev...</td>\n",
       "      <td>0.392516</td>\n",
       "      <td>0.045515</td>\n",
       "      <td>-0.9999</td>\n",
       "      <td>0.179</td>\n",
       "      <td>0.730</td>\n",
       "      <td>0.091</td>\n",
       "    </tr>\n",
       "    <tr>\n",
       "      <th>364</th>\n",
       "      <td>2020-06-29</td>\n",
       "      <td>hot stylish bikini look katrina kaif anna eden...</td>\n",
       "      <td>0.376447</td>\n",
       "      <td>0.054661</td>\n",
       "      <td>-0.9998</td>\n",
       "      <td>0.171</td>\n",
       "      <td>0.727</td>\n",
       "      <td>0.102</td>\n",
       "    </tr>\n",
       "  </tbody>\n",
       "</table>\n",
       "<p>365 rows × 8 columns</p>\n",
       "</div>"
      ],
      "text/plain": [
       "          Date                                               news  \\\n",
       "0   2019-07-01  micro review tom clancy enemy contact mike mad...   \n",
       "1   2019-07-02  invest secure future parent bank fraud ed sear...   \n",
       "2   2019-07-03  one actor six character solo theatre act set s...   \n",
       "3   2019-07-04  party night candolim party night candolim raja...   \n",
       "4   2019-07-05  telangana cm school get swanky building modern...   \n",
       "..         ...                                                ...   \n",
       "360 2020-06-25  truck firm look new export market sell b range...   \n",
       "361 2020-06-26  containment zone resident slam high price char...   \n",
       "362 2020-06-27  like wont let toxic relationship food major ra...   \n",
       "363 2020-06-28  atanu ghosh plan rewrite old script make relev...   \n",
       "364 2020-06-29  hot stylish bikini look katrina kaif anna eden...   \n",
       "\n",
       "     Subjectivity  Polarity  Compound  Negative  Neutral  Positive  \n",
       "0        0.393000  0.022048   -0.9999     0.169    0.739     0.092  \n",
       "1        0.380064  0.022599   -0.9998     0.162    0.736     0.102  \n",
       "2        0.359821  0.012605   -0.9999     0.189    0.706     0.106  \n",
       "3        0.439894  0.067461   -0.9998     0.167    0.727     0.107  \n",
       "4        0.388086  0.020945   -0.9998     0.179    0.712     0.110  \n",
       "..            ...       ...       ...       ...      ...       ...  \n",
       "360      0.377764  0.000578   -0.9999     0.184    0.740     0.076  \n",
       "361      0.365790  0.041056   -0.9998     0.172    0.726     0.103  \n",
       "362      0.371535  0.061702   -0.9998     0.165    0.736     0.099  \n",
       "363      0.392516  0.045515   -0.9999     0.179    0.730     0.091  \n",
       "364      0.376447  0.054661   -0.9998     0.171    0.727     0.102  \n",
       "\n",
       "[365 rows x 8 columns]"
      ]
     },
     "execution_count": 41,
     "metadata": {},
     "output_type": "execute_result"
    }
   ],
   "source": [
    "sia = SentimentIntensityAnalyzer()\n",
    "\n",
    "news['Compound'] = [sia.polarity_scores(v)['compound'] for v in news['news']]\n",
    "news['Negative'] = [sia.polarity_scores(v)['neg'] for v in news['news']]\n",
    "news['Neutral'] = [sia.polarity_scores(v)['neu'] for v in news['news']]\n",
    "news['Positive'] = [sia.polarity_scores(v)['pos'] for v in news['news']]\n",
    "news"
   ]
  },
  {
   "cell_type": "markdown",
   "metadata": {},
   "source": [
    "## Merging two dataframes: text ual and numerical"
   ]
  },
  {
   "cell_type": "code",
   "execution_count": 50,
   "metadata": {},
   "outputs": [
    {
     "data": {
      "text/html": [
       "<div>\n",
       "<style scoped>\n",
       "    .dataframe tbody tr th:only-of-type {\n",
       "        vertical-align: middle;\n",
       "    }\n",
       "\n",
       "    .dataframe tbody tr th {\n",
       "        vertical-align: top;\n",
       "    }\n",
       "\n",
       "    .dataframe thead th {\n",
       "        text-align: right;\n",
       "    }\n",
       "</style>\n",
       "<table border=\"1\" class=\"dataframe\">\n",
       "  <thead>\n",
       "    <tr style=\"text-align: right;\">\n",
       "      <th></th>\n",
       "      <th>Date</th>\n",
       "      <th>High</th>\n",
       "      <th>Low</th>\n",
       "      <th>Open</th>\n",
       "      <th>Close</th>\n",
       "      <th>Volume</th>\n",
       "      <th>Adj Close</th>\n",
       "      <th>news</th>\n",
       "      <th>Subjectivity</th>\n",
       "      <th>Polarity</th>\n",
       "      <th>Compound</th>\n",
       "      <th>Negative</th>\n",
       "      <th>Neutral</th>\n",
       "      <th>Positive</th>\n",
       "    </tr>\n",
       "  </thead>\n",
       "  <tbody>\n",
       "    <tr>\n",
       "      <th>0</th>\n",
       "      <td>2019-07-01</td>\n",
       "      <td>46.619999</td>\n",
       "      <td>45.256001</td>\n",
       "      <td>46.042000</td>\n",
       "      <td>45.433998</td>\n",
       "      <td>41067000</td>\n",
       "      <td>45.433998</td>\n",
       "      <td>micro review tom clancy enemy contact mike mad...</td>\n",
       "      <td>0.393000</td>\n",
       "      <td>0.022048</td>\n",
       "      <td>-0.9999</td>\n",
       "      <td>0.169</td>\n",
       "      <td>0.739</td>\n",
       "      <td>0.092</td>\n",
       "    </tr>\n",
       "    <tr>\n",
       "      <th>1</th>\n",
       "      <td>2019-07-02</td>\n",
       "      <td>45.830002</td>\n",
       "      <td>44.444000</td>\n",
       "      <td>45.778000</td>\n",
       "      <td>44.910000</td>\n",
       "      <td>46295000</td>\n",
       "      <td>44.910000</td>\n",
       "      <td>invest secure future parent bank fraud ed sear...</td>\n",
       "      <td>0.380064</td>\n",
       "      <td>0.022599</td>\n",
       "      <td>-0.9998</td>\n",
       "      <td>0.162</td>\n",
       "      <td>0.736</td>\n",
       "      <td>0.102</td>\n",
       "    </tr>\n",
       "    <tr>\n",
       "      <th>2</th>\n",
       "      <td>2019-07-03</td>\n",
       "      <td>48.313999</td>\n",
       "      <td>46.902000</td>\n",
       "      <td>47.877998</td>\n",
       "      <td>46.980000</td>\n",
       "      <td>71005500</td>\n",
       "      <td>46.980000</td>\n",
       "      <td>one actor six character solo theatre act set s...</td>\n",
       "      <td>0.359821</td>\n",
       "      <td>0.012605</td>\n",
       "      <td>-0.9999</td>\n",
       "      <td>0.189</td>\n",
       "      <td>0.706</td>\n",
       "      <td>0.106</td>\n",
       "    </tr>\n",
       "    <tr>\n",
       "      <th>3</th>\n",
       "      <td>2019-07-05</td>\n",
       "      <td>47.090000</td>\n",
       "      <td>46.160000</td>\n",
       "      <td>46.914001</td>\n",
       "      <td>46.619999</td>\n",
       "      <td>35328500</td>\n",
       "      <td>46.619999</td>\n",
       "      <td>telangana cm school get swanky building modern...</td>\n",
       "      <td>0.388086</td>\n",
       "      <td>0.020945</td>\n",
       "      <td>-0.9998</td>\n",
       "      <td>0.179</td>\n",
       "      <td>0.712</td>\n",
       "      <td>0.110</td>\n",
       "    </tr>\n",
       "    <tr>\n",
       "      <th>4</th>\n",
       "      <td>2019-07-08</td>\n",
       "      <td>46.450001</td>\n",
       "      <td>45.731998</td>\n",
       "      <td>46.248001</td>\n",
       "      <td>46.068001</td>\n",
       "      <td>29402500</td>\n",
       "      <td>46.068001</td>\n",
       "      <td>thailand meet eye guide exploring micro review...</td>\n",
       "      <td>0.371236</td>\n",
       "      <td>0.054418</td>\n",
       "      <td>-0.9997</td>\n",
       "      <td>0.165</td>\n",
       "      <td>0.726</td>\n",
       "      <td>0.109</td>\n",
       "    </tr>\n",
       "    <tr>\n",
       "      <th>...</th>\n",
       "      <td>...</td>\n",
       "      <td>...</td>\n",
       "      <td>...</td>\n",
       "      <td>...</td>\n",
       "      <td>...</td>\n",
       "      <td>...</td>\n",
       "      <td>...</td>\n",
       "      <td>...</td>\n",
       "      <td>...</td>\n",
       "      <td>...</td>\n",
       "      <td>...</td>\n",
       "      <td>...</td>\n",
       "      <td>...</td>\n",
       "      <td>...</td>\n",
       "    </tr>\n",
       "    <tr>\n",
       "      <th>247</th>\n",
       "      <td>2020-06-23</td>\n",
       "      <td>202.399994</td>\n",
       "      <td>198.802002</td>\n",
       "      <td>199.776001</td>\n",
       "      <td>200.356003</td>\n",
       "      <td>31826500</td>\n",
       "      <td>200.356003</td>\n",
       "      <td>delayed period time accept household chore equ...</td>\n",
       "      <td>0.339187</td>\n",
       "      <td>0.056391</td>\n",
       "      <td>-0.9999</td>\n",
       "      <td>0.169</td>\n",
       "      <td>0.740</td>\n",
       "      <td>0.091</td>\n",
       "    </tr>\n",
       "    <tr>\n",
       "      <th>248</th>\n",
       "      <td>2020-06-24</td>\n",
       "      <td>200.175995</td>\n",
       "      <td>190.628006</td>\n",
       "      <td>198.822006</td>\n",
       "      <td>192.169998</td>\n",
       "      <td>54798000</td>\n",
       "      <td>192.169998</td>\n",
       "      <td>never thought voice today vidya rajput never t...</td>\n",
       "      <td>0.373125</td>\n",
       "      <td>0.064799</td>\n",
       "      <td>-0.9998</td>\n",
       "      <td>0.156</td>\n",
       "      <td>0.751</td>\n",
       "      <td>0.093</td>\n",
       "    </tr>\n",
       "    <tr>\n",
       "      <th>249</th>\n",
       "      <td>2020-06-25</td>\n",
       "      <td>197.195999</td>\n",
       "      <td>187.429993</td>\n",
       "      <td>190.854004</td>\n",
       "      <td>197.195999</td>\n",
       "      <td>46272500</td>\n",
       "      <td>197.195999</td>\n",
       "      <td>truck firm look new export market sell b range...</td>\n",
       "      <td>0.377764</td>\n",
       "      <td>0.000578</td>\n",
       "      <td>-0.9999</td>\n",
       "      <td>0.184</td>\n",
       "      <td>0.740</td>\n",
       "      <td>0.076</td>\n",
       "    </tr>\n",
       "    <tr>\n",
       "      <th>250</th>\n",
       "      <td>2020-06-26</td>\n",
       "      <td>199.000000</td>\n",
       "      <td>190.973999</td>\n",
       "      <td>198.955994</td>\n",
       "      <td>191.947998</td>\n",
       "      <td>44274500</td>\n",
       "      <td>191.947998</td>\n",
       "      <td>containment zone resident slam high price char...</td>\n",
       "      <td>0.365790</td>\n",
       "      <td>0.041056</td>\n",
       "      <td>-0.9998</td>\n",
       "      <td>0.172</td>\n",
       "      <td>0.726</td>\n",
       "      <td>0.103</td>\n",
       "    </tr>\n",
       "    <tr>\n",
       "      <th>251</th>\n",
       "      <td>2020-06-29</td>\n",
       "      <td>202.000000</td>\n",
       "      <td>189.703995</td>\n",
       "      <td>193.802002</td>\n",
       "      <td>201.869995</td>\n",
       "      <td>45132000</td>\n",
       "      <td>201.869995</td>\n",
       "      <td>hot stylish bikini look katrina kaif anna eden...</td>\n",
       "      <td>0.376447</td>\n",
       "      <td>0.054661</td>\n",
       "      <td>-0.9998</td>\n",
       "      <td>0.171</td>\n",
       "      <td>0.727</td>\n",
       "      <td>0.102</td>\n",
       "    </tr>\n",
       "  </tbody>\n",
       "</table>\n",
       "<p>252 rows × 14 columns</p>\n",
       "</div>"
      ],
      "text/plain": [
       "          Date        High         Low        Open       Close    Volume  \\\n",
       "0   2019-07-01   46.619999   45.256001   46.042000   45.433998  41067000   \n",
       "1   2019-07-02   45.830002   44.444000   45.778000   44.910000  46295000   \n",
       "2   2019-07-03   48.313999   46.902000   47.877998   46.980000  71005500   \n",
       "3   2019-07-05   47.090000   46.160000   46.914001   46.619999  35328500   \n",
       "4   2019-07-08   46.450001   45.731998   46.248001   46.068001  29402500   \n",
       "..         ...         ...         ...         ...         ...       ...   \n",
       "247 2020-06-23  202.399994  198.802002  199.776001  200.356003  31826500   \n",
       "248 2020-06-24  200.175995  190.628006  198.822006  192.169998  54798000   \n",
       "249 2020-06-25  197.195999  187.429993  190.854004  197.195999  46272500   \n",
       "250 2020-06-26  199.000000  190.973999  198.955994  191.947998  44274500   \n",
       "251 2020-06-29  202.000000  189.703995  193.802002  201.869995  45132000   \n",
       "\n",
       "      Adj Close                                               news  \\\n",
       "0     45.433998  micro review tom clancy enemy contact mike mad...   \n",
       "1     44.910000  invest secure future parent bank fraud ed sear...   \n",
       "2     46.980000  one actor six character solo theatre act set s...   \n",
       "3     46.619999  telangana cm school get swanky building modern...   \n",
       "4     46.068001  thailand meet eye guide exploring micro review...   \n",
       "..          ...                                                ...   \n",
       "247  200.356003  delayed period time accept household chore equ...   \n",
       "248  192.169998  never thought voice today vidya rajput never t...   \n",
       "249  197.195999  truck firm look new export market sell b range...   \n",
       "250  191.947998  containment zone resident slam high price char...   \n",
       "251  201.869995  hot stylish bikini look katrina kaif anna eden...   \n",
       "\n",
       "     Subjectivity  Polarity  Compound  Negative  Neutral  Positive  \n",
       "0        0.393000  0.022048   -0.9999     0.169    0.739     0.092  \n",
       "1        0.380064  0.022599   -0.9998     0.162    0.736     0.102  \n",
       "2        0.359821  0.012605   -0.9999     0.189    0.706     0.106  \n",
       "3        0.388086  0.020945   -0.9998     0.179    0.712     0.110  \n",
       "4        0.371236  0.054418   -0.9997     0.165    0.726     0.109  \n",
       "..            ...       ...       ...       ...      ...       ...  \n",
       "247      0.339187  0.056391   -0.9999     0.169    0.740     0.091  \n",
       "248      0.373125  0.064799   -0.9998     0.156    0.751     0.093  \n",
       "249      0.377764  0.000578   -0.9999     0.184    0.740     0.076  \n",
       "250      0.365790  0.041056   -0.9998     0.172    0.726     0.103  \n",
       "251      0.376447  0.054661   -0.9998     0.171    0.727     0.102  \n",
       "\n",
       "[252 rows x 14 columns]"
      ]
     },
     "execution_count": 50,
     "metadata": {},
     "output_type": "execute_result"
    }
   ],
   "source": [
    "df_merge = pd.merge(df, news, how='inner', on='Date')\n",
    "df_merge"
   ]
  },
  {
   "cell_type": "code",
   "execution_count": 51,
   "metadata": {},
   "outputs": [
    {
     "data": {
      "text/html": [
       "<div>\n",
       "<style scoped>\n",
       "    .dataframe tbody tr th:only-of-type {\n",
       "        vertical-align: middle;\n",
       "    }\n",
       "\n",
       "    .dataframe tbody tr th {\n",
       "        vertical-align: top;\n",
       "    }\n",
       "\n",
       "    .dataframe thead th {\n",
       "        text-align: right;\n",
       "    }\n",
       "</style>\n",
       "<table border=\"1\" class=\"dataframe\">\n",
       "  <thead>\n",
       "    <tr style=\"text-align: right;\">\n",
       "      <th></th>\n",
       "      <th>Close</th>\n",
       "      <th>Subjectivity</th>\n",
       "      <th>Polarity</th>\n",
       "      <th>Compound</th>\n",
       "      <th>Negative</th>\n",
       "      <th>Neutral</th>\n",
       "      <th>Positive</th>\n",
       "    </tr>\n",
       "  </thead>\n",
       "  <tbody>\n",
       "    <tr>\n",
       "      <th>0</th>\n",
       "      <td>45.433998</td>\n",
       "      <td>0.393000</td>\n",
       "      <td>0.022048</td>\n",
       "      <td>-0.9999</td>\n",
       "      <td>0.169</td>\n",
       "      <td>0.739</td>\n",
       "      <td>0.092</td>\n",
       "    </tr>\n",
       "    <tr>\n",
       "      <th>1</th>\n",
       "      <td>44.910000</td>\n",
       "      <td>0.380064</td>\n",
       "      <td>0.022599</td>\n",
       "      <td>-0.9998</td>\n",
       "      <td>0.162</td>\n",
       "      <td>0.736</td>\n",
       "      <td>0.102</td>\n",
       "    </tr>\n",
       "    <tr>\n",
       "      <th>2</th>\n",
       "      <td>46.980000</td>\n",
       "      <td>0.359821</td>\n",
       "      <td>0.012605</td>\n",
       "      <td>-0.9999</td>\n",
       "      <td>0.189</td>\n",
       "      <td>0.706</td>\n",
       "      <td>0.106</td>\n",
       "    </tr>\n",
       "    <tr>\n",
       "      <th>3</th>\n",
       "      <td>46.619999</td>\n",
       "      <td>0.388086</td>\n",
       "      <td>0.020945</td>\n",
       "      <td>-0.9998</td>\n",
       "      <td>0.179</td>\n",
       "      <td>0.712</td>\n",
       "      <td>0.110</td>\n",
       "    </tr>\n",
       "    <tr>\n",
       "      <th>4</th>\n",
       "      <td>46.068001</td>\n",
       "      <td>0.371236</td>\n",
       "      <td>0.054418</td>\n",
       "      <td>-0.9997</td>\n",
       "      <td>0.165</td>\n",
       "      <td>0.726</td>\n",
       "      <td>0.109</td>\n",
       "    </tr>\n",
       "    <tr>\n",
       "      <th>...</th>\n",
       "      <td>...</td>\n",
       "      <td>...</td>\n",
       "      <td>...</td>\n",
       "      <td>...</td>\n",
       "      <td>...</td>\n",
       "      <td>...</td>\n",
       "      <td>...</td>\n",
       "    </tr>\n",
       "    <tr>\n",
       "      <th>247</th>\n",
       "      <td>200.356003</td>\n",
       "      <td>0.339187</td>\n",
       "      <td>0.056391</td>\n",
       "      <td>-0.9999</td>\n",
       "      <td>0.169</td>\n",
       "      <td>0.740</td>\n",
       "      <td>0.091</td>\n",
       "    </tr>\n",
       "    <tr>\n",
       "      <th>248</th>\n",
       "      <td>192.169998</td>\n",
       "      <td>0.373125</td>\n",
       "      <td>0.064799</td>\n",
       "      <td>-0.9998</td>\n",
       "      <td>0.156</td>\n",
       "      <td>0.751</td>\n",
       "      <td>0.093</td>\n",
       "    </tr>\n",
       "    <tr>\n",
       "      <th>249</th>\n",
       "      <td>197.195999</td>\n",
       "      <td>0.377764</td>\n",
       "      <td>0.000578</td>\n",
       "      <td>-0.9999</td>\n",
       "      <td>0.184</td>\n",
       "      <td>0.740</td>\n",
       "      <td>0.076</td>\n",
       "    </tr>\n",
       "    <tr>\n",
       "      <th>250</th>\n",
       "      <td>191.947998</td>\n",
       "      <td>0.365790</td>\n",
       "      <td>0.041056</td>\n",
       "      <td>-0.9998</td>\n",
       "      <td>0.172</td>\n",
       "      <td>0.726</td>\n",
       "      <td>0.103</td>\n",
       "    </tr>\n",
       "    <tr>\n",
       "      <th>251</th>\n",
       "      <td>201.869995</td>\n",
       "      <td>0.376447</td>\n",
       "      <td>0.054661</td>\n",
       "      <td>-0.9998</td>\n",
       "      <td>0.171</td>\n",
       "      <td>0.727</td>\n",
       "      <td>0.102</td>\n",
       "    </tr>\n",
       "  </tbody>\n",
       "</table>\n",
       "<p>252 rows × 7 columns</p>\n",
       "</div>"
      ],
      "text/plain": [
       "          Close  Subjectivity  Polarity  Compound  Negative  Neutral  Positive\n",
       "0     45.433998      0.393000  0.022048   -0.9999     0.169    0.739     0.092\n",
       "1     44.910000      0.380064  0.022599   -0.9998     0.162    0.736     0.102\n",
       "2     46.980000      0.359821  0.012605   -0.9999     0.189    0.706     0.106\n",
       "3     46.619999      0.388086  0.020945   -0.9998     0.179    0.712     0.110\n",
       "4     46.068001      0.371236  0.054418   -0.9997     0.165    0.726     0.109\n",
       "..          ...           ...       ...       ...       ...      ...       ...\n",
       "247  200.356003      0.339187  0.056391   -0.9999     0.169    0.740     0.091\n",
       "248  192.169998      0.373125  0.064799   -0.9998     0.156    0.751     0.093\n",
       "249  197.195999      0.377764  0.000578   -0.9999     0.184    0.740     0.076\n",
       "250  191.947998      0.365790  0.041056   -0.9998     0.172    0.726     0.103\n",
       "251  201.869995      0.376447  0.054661   -0.9998     0.171    0.727     0.102\n",
       "\n",
       "[252 rows x 7 columns]"
      ]
     },
     "execution_count": 51,
     "metadata": {},
     "output_type": "execute_result"
    }
   ],
   "source": [
    "df_final = df_merge[['Close','Subjectivity', 'Polarity', 'Compound', 'Negative', 'Neutral' ,'Positive']]\n",
    "df_final"
   ]
  },
  {
   "cell_type": "code",
   "execution_count": 52,
   "metadata": {},
   "outputs": [
    {
     "data": {
      "text/html": [
       "<div>\n",
       "<style scoped>\n",
       "    .dataframe tbody tr th:only-of-type {\n",
       "        vertical-align: middle;\n",
       "    }\n",
       "\n",
       "    .dataframe tbody tr th {\n",
       "        vertical-align: top;\n",
       "    }\n",
       "\n",
       "    .dataframe thead th {\n",
       "        text-align: right;\n",
       "    }\n",
       "</style>\n",
       "<table border=\"1\" class=\"dataframe\">\n",
       "  <thead>\n",
       "    <tr style=\"text-align: right;\">\n",
       "      <th></th>\n",
       "      <th>Close</th>\n",
       "      <th>Subjectivity</th>\n",
       "      <th>Polarity</th>\n",
       "      <th>Compound</th>\n",
       "      <th>Negative</th>\n",
       "      <th>Neutral</th>\n",
       "      <th>Positive</th>\n",
       "    </tr>\n",
       "  </thead>\n",
       "  <tbody>\n",
       "    <tr>\n",
       "      <th>0</th>\n",
       "      <td>0.019382</td>\n",
       "      <td>0.528294</td>\n",
       "      <td>0.244262</td>\n",
       "      <td>0.00005</td>\n",
       "      <td>0.494949</td>\n",
       "      <td>0.616279</td>\n",
       "      <td>0.255814</td>\n",
       "    </tr>\n",
       "    <tr>\n",
       "      <th>1</th>\n",
       "      <td>0.016162</td>\n",
       "      <td>0.423610</td>\n",
       "      <td>0.248595</td>\n",
       "      <td>0.00010</td>\n",
       "      <td>0.424242</td>\n",
       "      <td>0.581395</td>\n",
       "      <td>0.372093</td>\n",
       "    </tr>\n",
       "    <tr>\n",
       "      <th>2</th>\n",
       "      <td>0.028882</td>\n",
       "      <td>0.259796</td>\n",
       "      <td>0.169883</td>\n",
       "      <td>0.00005</td>\n",
       "      <td>0.696970</td>\n",
       "      <td>0.232558</td>\n",
       "      <td>0.418605</td>\n",
       "    </tr>\n",
       "    <tr>\n",
       "      <th>3</th>\n",
       "      <td>0.026670</td>\n",
       "      <td>0.488533</td>\n",
       "      <td>0.235570</td>\n",
       "      <td>0.00010</td>\n",
       "      <td>0.595960</td>\n",
       "      <td>0.302326</td>\n",
       "      <td>0.465116</td>\n",
       "    </tr>\n",
       "    <tr>\n",
       "      <th>4</th>\n",
       "      <td>0.023278</td>\n",
       "      <td>0.352173</td>\n",
       "      <td>0.499212</td>\n",
       "      <td>0.00015</td>\n",
       "      <td>0.454545</td>\n",
       "      <td>0.465116</td>\n",
       "      <td>0.453488</td>\n",
       "    </tr>\n",
       "  </tbody>\n",
       "</table>\n",
       "</div>"
      ],
      "text/plain": [
       "      Close  Subjectivity  Polarity  Compound  Negative   Neutral  Positive\n",
       "0  0.019382      0.528294  0.244262   0.00005  0.494949  0.616279  0.255814\n",
       "1  0.016162      0.423610  0.248595   0.00010  0.424242  0.581395  0.372093\n",
       "2  0.028882      0.259796  0.169883   0.00005  0.696970  0.232558  0.418605\n",
       "3  0.026670      0.488533  0.235570   0.00010  0.595960  0.302326  0.465116\n",
       "4  0.023278      0.352173  0.499212   0.00015  0.454545  0.465116  0.453488"
      ]
     },
     "execution_count": 52,
     "metadata": {},
     "output_type": "execute_result"
    }
   ],
   "source": [
    "from sklearn.preprocessing import MinMaxScaler\n",
    "sc = MinMaxScaler()\n",
    "df = pd.DataFrame(sc.fit_transform(df_final))\n",
    "df.columns = df_final.columns\n",
    "df.index = df_final.index\n",
    "df.head()"
   ]
  },
  {
   "cell_type": "markdown",
   "metadata": {},
   "source": [
    "# Traing of hybrid model"
   ]
  },
  {
   "cell_type": "code",
   "execution_count": 56,
   "metadata": {},
   "outputs": [],
   "source": [
    "X=df.drop(\"Close\",axis=1)\n",
    "y=df[\"Close\"]"
   ]
  },
  {
   "cell_type": "code",
   "execution_count": 115,
   "metadata": {},
   "outputs": [],
   "source": [
    "from sklearn.model_selection import train_test_split\n",
    "X_train,X_test,y_train,y_test=train_test_split(X,y,random_state=141)\n",
    "X_train=np.array(X_train)\n",
    "y_train=np.array(y_train)"
   ]
  },
  {
   "cell_type": "code",
   "execution_count": 104,
   "metadata": {},
   "outputs": [],
   "source": [
    "from sklearn.ensemble import RandomForestRegressor, AdaBoostRegressor\n",
    "from sklearn import preprocessing\n",
    "from sklearn import utils\n",
    "from sklearn import metrics  \n"
   ]
  },
  {
   "cell_type": "code",
   "execution_count": 148,
   "metadata": {},
   "outputs": [],
   "source": [
    "## Using Random Forest Regression"
   ]
  },
  {
   "cell_type": "code",
   "execution_count": 106,
   "metadata": {},
   "outputs": [
    {
     "name": "stdout",
     "output_type": "stream",
     "text": [
      "0.06501362919492334\n"
     ]
    }
   ],
   "source": [
    "\n",
    "rf = RandomForestRegressor()\n",
    "rf.fit(X_train, y_train)\n",
    "y_pred=rf.predict(X_test)\n",
    "print(metrics.mean_squared_error(y_pred,y_test))\n"
   ]
  },
  {
   "cell_type": "code",
   "execution_count": 149,
   "metadata": {},
   "outputs": [],
   "source": [
    "## Using AdaBoostRegressor"
   ]
  },
  {
   "cell_type": "code",
   "execution_count": 117,
   "metadata": {},
   "outputs": [
    {
     "name": "stdout",
     "output_type": "stream",
     "text": [
      "0.06880121684836292\n"
     ]
    }
   ],
   "source": [
    "adb = AdaBoostRegressor()\n",
    "adb.fit(X_train, y_train)\n",
    "y_pred = adb.predict(X_test)\n",
    "print(metrics.mean_squared_error(y_pred, y_test))"
   ]
  },
  {
   "cell_type": "code",
   "execution_count": 150,
   "metadata": {},
   "outputs": [],
   "source": [
    "## Hence, the model fits best for random forest regressor"
   ]
  },
  {
   "cell_type": "code",
   "execution_count": null,
   "metadata": {},
   "outputs": [],
   "source": []
  }
 ],
 "metadata": {
  "kernelspec": {
   "display_name": "Python 3",
   "language": "python",
   "name": "python3"
  },
  "language_info": {
   "codemirror_mode": {
    "name": "ipython",
    "version": 3
   },
   "file_extension": ".py",
   "mimetype": "text/x-python",
   "name": "python",
   "nbconvert_exporter": "python",
   "pygments_lexer": "ipython3",
   "version": "3.7.6"
  }
 },
 "nbformat": 4,
 "nbformat_minor": 4
}
